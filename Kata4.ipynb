{
 "cells": [
  {
   "cell_type": "markdown",
   "metadata": {},
   "source": [
    "# Kata 4. Cadenas\n",
    "\n",
    "### Ejercio 1: Transformar cadenas"
   ]
  },
  {
   "cell_type": "code",
   "execution_count": 11,
   "metadata": {},
   "outputs": [
    {
     "name": "stdout",
     "output_type": "stream",
     "text": [
      "\n",
      "On average, the Moon moves 4cm away from the Earth every year\n",
      "The highest daylight temperature of the Moon is 127 C.\n"
     ]
    }
   ],
   "source": [
    "# Texto con el que trabajaremos\n",
    "\n",
    "text = \"\"\"Interesting facts about the Moon. The Moon is Earth's only satellite. There are several interesting facts about the Moon and how it affects life here on Earth. \n",
    "On average, the Moon moves 4cm away from the Earth every year. This yearly drift is not significant enough to cause immediate effects on Earth. The highest daylight temperature of the Moon is 127 C.\"\"\"\n",
    "\n",
    "# Dividir el texto\n",
    "\n",
    "text_2 = text.split('. ') \n",
    "text_2\n",
    "\n",
    "\n",
    "\n"
   ]
  },
  {
   "cell_type": "code",
   "execution_count": 12,
   "metadata": {},
   "outputs": [],
   "source": [
    "# Definir palabras clave\n",
    "keywords = [\"average\",\"temperature\",\"distance\"]\n"
   ]
  },
  {
   "cell_type": "code",
   "execution_count": 13,
   "metadata": {},
   "outputs": [
    {
     "name": "stdout",
     "output_type": "stream",
     "text": [
      "\n",
      "On average, the Moon moves 4cm away from the Earth every year\n",
      "The highest daylight temperature of the Moon is 127 C.\n"
     ]
    }
   ],
   "source": [
    "# Ciclo for para recorrer la cadena\n",
    "\n",
    "for sentence in text_2:\n",
    "    for keyword in keywords: \n",
    "        if keyword in sentence: \n",
    "            print(sentence)\n",
    "            break \n"
   ]
  },
  {
   "cell_type": "code",
   "execution_count": 16,
   "metadata": {},
   "outputs": [
    {
     "name": "stdout",
     "output_type": "stream",
     "text": [
      "\n",
      "On average, the Moon moves 4cm away from the Earth every year\n",
      "The highest daylight temperature of the Moon is 127 Celsius.\n"
     ]
    }
   ],
   "source": [
    "# Ciclo para cambiar de C a Celsius\n",
    "\n",
    "for sentence in text_2:\n",
    "    for keyword in keywords: \n",
    "        if keyword in sentence: \n",
    "            print(sentence.replace('C','Celsius'))\n",
    "            break \n"
   ]
  },
  {
   "cell_type": "code",
   "execution_count": 17,
   "metadata": {},
   "outputs": [
    {
     "name": "stdout",
     "output_type": "stream",
     "text": [
      "\n",
      "On average, the Moon moves 4cm away from the Earth every year\n",
      "The highest daylight temperature of the Moon is 127 Celsius.\n"
     ]
    }
   ],
   "source": [
    "# Otra forma para cambiar cambiar de C a Celsius\n",
    "\n",
    "for sentence in text_2:\n",
    "    for keyword in keywords:\n",
    "        if keyword in sentence: \n",
    "            if 'C' in sentence: \n",
    "                print(sentence.replace('C','Celsius'))\n",
    "            else:\n",
    "                print(sentence) "
   ]
  },
  {
   "cell_type": "markdown",
   "metadata": {},
   "source": [
    "### Ejercicio 2. Formateando Cadenas.\n"
   ]
  },
  {
   "cell_type": "code",
   "execution_count": 49,
   "metadata": {},
   "outputs": [
    {
     "data": {
      "text/plain": [
       "'La Gravedad En Moon'"
      ]
     },
     "execution_count": 49,
     "metadata": {},
     "output_type": "execute_result"
    }
   ],
   "source": [
    "# Datos de trabajo\n",
    "name = 'Moon'\n",
    "gravity = 0.00162 # in kms\n",
    "planet = 'Earth'\n",
    "\n",
    "# Creación de un titulo\n",
    "\n",
    "titulo = f'la gravedad en {name}'\n",
    "titulo.title()"
   ]
  },
  {
   "cell_type": "code",
   "execution_count": 50,
   "metadata": {},
   "outputs": [],
   "source": [
    "# Plantilla de cadena multilinea\n",
    "\n",
    "distance = f\"\"\"{'-'*80}\n",
    "Nombre : {name}\n",
    "Gravedad en {name}: {gravity*1000}m/s2\n",
    "\"\"\""
   ]
  },
  {
   "cell_type": "code",
   "execution_count": 51,
   "metadata": {},
   "outputs": [
    {
     "name": "stdout",
     "output_type": "stream",
     "text": [
      "La Gravedad En Moon \n",
      "--------------------------------------------------------------------------------\n",
      "Nombre : Moon\n",
      "Gravedad en Moon: 1.6199999999999999m/s2\n",
      "\n"
     ]
    }
   ],
   "source": [
    "# Unión de ambas cadenas\n",
    "\n",
    "prueba = f\"\"\"{titulo.title()} \n",
    "{distance}\"\"\"\n",
    "print(prueba)"
   ]
  },
  {
   "cell_type": "code",
   "execution_count": 41,
   "metadata": {},
   "outputs": [
    {
     "name": "stdout",
     "output_type": "stream",
     "text": [
      "--------------------------------------------------------------------------------\n",
      "Nombre: Moon\n",
      "Gravedad en Moon: 1.6199999999999999m/s2\n",
      "\n"
     ]
    }
   ],
   "source": [
    "# Nuevos datos\n",
    "\n",
    "name2 = 'Ganímedes'\n",
    "gravity2 = 0.00143\n",
    "planet2 ='Marte'\n",
    "\n",
    "# Comprobamos la plantilla\n",
    "print(distance)\n",
    "\n"
   ]
  },
  {
   "cell_type": "code",
   "execution_count": 42,
   "metadata": {},
   "outputs": [
    {
     "name": "stdout",
     "output_type": "stream",
     "text": [
      "\n",
      "Datos de Gravedad sobre Ganímedes\n",
      "-------------------------------------------\n",
      "Nombre del planeta: Marte\n",
      "Gravedad en Ganímedes: 1.4300000000000002 m/s2\n",
      "\n"
     ]
    }
   ],
   "source": [
    "# Nueva plantilla\n",
    "plantilla_2 =\"\"\"\n",
    "Datos de Gravedad sobre {name2}\n",
    "-------------------------------------------\n",
    "Nombre del planeta: {planet2}\n",
    "Gravedad en {name2}: {gravity2} m/s2\n",
    "\"\"\"\n",
    "print(plantilla_2.format(name2=name2, planet2=planet2, gravity2=gravity2*1000))"
   ]
  }
 ],
 "metadata": {
  "interpreter": {
   "hash": "a431febc073bd7cb3486cf8618f1bd43f7c82f44fec5a91b3f10cf9fd3f6a184"
  },
  "kernelspec": {
   "display_name": "Python 3.9.10 64-bit (windows store)",
   "language": "python",
   "name": "python3"
  },
  "language_info": {
   "codemirror_mode": {
    "name": "ipython",
    "version": 3
   },
   "file_extension": ".py",
   "mimetype": "text/x-python",
   "name": "python",
   "nbconvert_exporter": "python",
   "pygments_lexer": "ipython3",
   "version": "3.9.10"
  },
  "orig_nbformat": 4
 },
 "nbformat": 4,
 "nbformat_minor": 2
}
