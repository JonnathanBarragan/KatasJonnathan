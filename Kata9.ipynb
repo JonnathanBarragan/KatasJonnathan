{
 "cells": [
  {
   "cell_type": "markdown",
   "metadata": {},
   "source": [
    "# Kata 9\n",
    "### Ejercicio 1: Uso de funciones en Python"
   ]
  },
  {
   "cell_type": "code",
   "execution_count": 15,
   "metadata": {},
   "outputs": [],
   "source": [
    "# Crear una función para leer 3 tanques de combustible y el promedio\n",
    "\n",
    "def tanques_de_combustible(tanque_1, tanque_2, tanque_3):\n",
    "    promedio = (tanque_1 + tanque_2 + tanque_3)/3\n",
    "    return f''' Reporte:\n",
    "    Promedio total: {promedio}%\n",
    "    Tanque_1: {tanque_1}%\n",
    "    Tanque_2: {tanque_2}%\n",
    "    Tanque_3: {tanque_3}%\n",
    "    '''"
   ]
  },
  {
   "cell_type": "code",
   "execution_count": 16,
   "metadata": {},
   "outputs": [
    {
     "name": "stdout",
     "output_type": "stream",
     "text": [
      " Reporte:\n",
      "    Promedio total: 71.66666666666667%\n",
      "    Tanque_1: 75%\n",
      "    Tanque_2: 80%\n",
      "    Tanque_3: 60%\n",
      "    \n"
     ]
    }
   ],
   "source": [
    "# Llamamos a la función que genere un reporte\n",
    "print(tanques_de_combustible(75,80,60))"
   ]
  },
  {
   "cell_type": "code",
   "execution_count": 17,
   "metadata": {},
   "outputs": [
    {
     "data": {
      "text/plain": [
       "71.66666666666667"
      ]
     },
     "execution_count": 17,
     "metadata": {},
     "output_type": "execute_result"
    }
   ],
   "source": [
    "# Función promedio\n",
    "\n",
    "def promedio(valores):\n",
    "    total = sum(valores)\n",
    "    elementos = len(valores)\n",
    "    return total/elementos\n",
    "\n",
    "promedio([75, 80, 60])"
   ]
  },
  {
   "cell_type": "code",
   "execution_count": 22,
   "metadata": {},
   "outputs": [],
   "source": [
    "# Actualiza la función \n",
    "def tanques_de_combustible(tanque_1, tanque_2, tanque_3):\n",
    "    return f''' Reporte:\n",
    "    Promedio total: {promedio([tanque_1, tanque_2, tanque_3])}%\n",
    "    Tanque_1: {tanque_1}%\n",
    "    Tanque_2: {tanque_2}%\n",
    "    Tanque_3: {tanque_3}%\n",
    "        '''"
   ]
  },
  {
   "cell_type": "code",
   "execution_count": 26,
   "metadata": {},
   "outputs": [
    {
     "name": "stdout",
     "output_type": "stream",
     "text": [
      " Reporte:\n",
      "    Promedio total: 80.33333333333333%\n",
      "    Tanque_1: 85%\n",
      "    Tanque_2: 81%\n",
      "    Tanque_3: 75%\n",
      "        \n"
     ]
    }
   ],
   "source": [
    "print(tanques_de_combustible(85, 81, 75))"
   ]
  },
  {
   "cell_type": "markdown",
   "metadata": {},
   "source": [
    "### Ejercicio 2: Trabajo con argumentos de palabra clave"
   ]
  },
  {
   "cell_type": "code",
   "execution_count": 30,
   "metadata": {},
   "outputs": [
    {
     "name": "stdout",
     "output_type": "stream",
     "text": [
      "Informe de la misión:\n",
      "    Tiempo de vuelo total: 71 minutos\n",
      "    Destino: Luna\n",
      "    Combustuble: 230000 galones\n",
      "        \n"
     ]
    }
   ],
   "source": [
    "# Función de informe preciso\n",
    "def informe_cohete(hora_de_prelanzamiento, tiempo_de_vuelo, destino, tanque_externo, tanque_interno):\n",
    "    return f'''Informe de la misión:\n",
    "    Tiempo de vuelo total: {hora_de_prelanzamiento + tiempo_de_vuelo} minutos\n",
    "    Destino: {destino}\n",
    "    Combustuble: {tanque_externo + tanque_interno} galones\n",
    "        '''\n",
    "\n",
    "print(informe_cohete(20,51,\"Luna\",200000,30000))"
   ]
  },
  {
   "cell_type": "code",
   "execution_count": 33,
   "metadata": {},
   "outputs": [
    {
     "name": "stdout",
     "output_type": "stream",
     "text": [
      "Informe de la misión:\n",
      "    Destino: La Luna\n",
      "    Tiempo de viaje: 81 minutos\n",
      "    Estado del combustible: 500000 galones\n",
      "    \n"
     ]
    }
   ],
   "source": [
    "# Nueva función \n",
    "\n",
    "def informe_cohete(destino, *minutos, **reserva_de_combustible):\n",
    "    return f'''Informe de la misión:\n",
    "    Destino: {destino}\n",
    "    Tiempo de viaje: {sum(minutos)} minutos\n",
    "    Estado del combustible: {sum(reserva_de_combustible.values())} galones\n",
    "    '''\n",
    "\n",
    "print(informe_cohete(\"La Luna\", 10, 20, 51, t_externo=200000, t_interno=300000))"
   ]
  },
  {
   "cell_type": "code",
   "execution_count": 44,
   "metadata": {},
   "outputs": [
    {
     "name": "stdout",
     "output_type": "stream",
     "text": [
      " Informe de la misión:\n",
      "    Destino: La Luna\n",
      "    Tiempo de viaje: 100 minutos\n",
      "    Estado del combustible: 500000\n",
      "     tanque externo -> 200000 galones left\n",
      " tanque interno -> 300000 galones left\n",
      "\n"
     ]
    }
   ],
   "source": [
    "# Función actualizada\n",
    "\n",
    "def informe_cohete(destino, *minutos, **reserva_de_combustible):\n",
    "    Reporte_principal = f''' Informe de la misión:\n",
    "    Destino: {destino}\n",
    "    Tiempo de viaje: {sum(minutos)} minutos\n",
    "    Estado del combustible: {sum(reserva_de_combustible.values())}\n",
    "    '''\n",
    "    for nombre_del_tanque, galones in reserva_de_combustible.items(): \n",
    "        Reporte_principal += f\" tanque {nombre_del_tanque} -> {galones} galones left\\n\"\n",
    "    return Reporte_principal\n",
    "\n",
    "print(informe_cohete(\"La Luna\",15,20,65, externo=200000, interno=300000))\n"
   ]
  }
 ],
 "metadata": {
  "interpreter": {
   "hash": "a431febc073bd7cb3486cf8618f1bd43f7c82f44fec5a91b3f10cf9fd3f6a184"
  },
  "kernelspec": {
   "display_name": "Python 3.9.10 64-bit (windows store)",
   "language": "python",
   "name": "python3"
  },
  "language_info": {
   "codemirror_mode": {
    "name": "ipython",
    "version": 3
   },
   "file_extension": ".py",
   "mimetype": "text/x-python",
   "name": "python",
   "nbconvert_exporter": "python",
   "pygments_lexer": "ipython3",
   "version": "3.9.10"
  },
  "orig_nbformat": 4
 },
 "nbformat": 4,
 "nbformat_minor": 2
}
