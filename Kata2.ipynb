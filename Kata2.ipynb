{
 "cells": [
  {
   "cell_type": "markdown",
   "metadata": {},
   "source": [
    "# Kata-2\n",
    "\n",
    "# Capturas de nuestra segunda practica de LaunchX\n",
    "\n",
    "#### Parte hecha en la terminal\n",
    "\n",
    "![image](https://user-images.githubusercontent.com/99059676/153527806-34af5a85-163f-4842-ae29-db0436afd85c.png)\n",
    "\n",
    "#### Parte de carpetas env\n",
    "\n",
    "![image](https://user-images.githubusercontent.com/99059676/153527922-e9f416a0-0df5-4a8c-b857-eece08afdead.png)"
   ]
  }
 ],
 "metadata": {
  "interpreter": {
   "hash": "d478e57a8143bc8272ae1a1af555267693e7a3f1834ea3bd254baf4178e41ebd"
  },
  "kernelspec": {
   "display_name": "Python 3.9.7 ('base')",
   "language": "python",
   "name": "python3"
  },
  "language_info": {
   "codemirror_mode": {
    "name": "ipython",
    "version": 3
   },
   "file_extension": ".py",
   "mimetype": "text/x-python",
   "name": "python",
   "nbconvert_exporter": "python",
   "pygments_lexer": "ipython3",
   "version": "3.9.7"
  },
  "orig_nbformat": 4
 },
 "nbformat": 4,
 "nbformat_minor": 2
}
