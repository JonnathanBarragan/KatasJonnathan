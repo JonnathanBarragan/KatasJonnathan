{
 "cells": [
  {
   "cell_type": "markdown",
   "metadata": {},
   "source": [
    "# Kata 5\n",
    "### Ejercicio 1 - Utilizar operadores aritmeticos"
   ]
  },
  {
   "cell_type": "code",
   "execution_count": 13,
   "metadata": {},
   "outputs": [],
   "source": [
    "# Distancias entre planetas en Kilometros\n",
    "\n",
    "Tierra = 149597870 \n",
    "Júpiter = 778547200 "
   ]
  },
  {
   "cell_type": "code",
   "execution_count": 14,
   "metadata": {},
   "outputs": [
    {
     "name": "stdout",
     "output_type": "stream",
     "text": [
      "628949330\n",
      "390577534\n"
     ]
    }
   ],
   "source": [
    "# Calcular la distancia entre los planetas\n",
    "distance1 = Tierra - Júpiter \n",
    "distance_millas = distance1*0.621\n",
    "print (abs (distance1 ))\n",
    "print(abs(round(distance_millas)))"
   ]
  },
  {
   "cell_type": "markdown",
   "metadata": {},
   "source": [
    "### Ejercicio 2: Convierte cadenas en números y usa valores absolutos."
   ]
  },
  {
   "cell_type": "code",
   "execution_count": 29,
   "metadata": {},
   "outputs": [],
   "source": [
    "# Almacenar las entradas del usuario\n",
    "planeta_1 = input('Introduzca la distancia del Sol para el primer planeta en KM')\n",
    "planeta_2 = input('Introduzca la distancia desde el Sol para el segundo planeta en KM')"
   ]
  },
  {
   "cell_type": "code",
   "execution_count": 30,
   "metadata": {},
   "outputs": [],
   "source": [
    "# Convertir las cadenas de ambos planetas a números enteros\n",
    "planeta_1 = int(planeta_1)\n",
    "planeta_2 = int(planeta_2)"
   ]
  },
  {
   "cell_type": "code",
   "execution_count": 31,
   "metadata": {},
   "outputs": [
    {
     "name": "stdout",
     "output_type": "stream",
     "text": [
      "4437200000\n",
      "2755501200\n"
     ]
    }
   ],
   "source": [
    "# Realizar el calcúlo y determinar el valor absoluto\n",
    "distancia = planeta_1 - planeta_2\n",
    "print(abs(distancia))\n",
    "\n",
    "# Convertir KM a Millas\n",
    "disntancia_millas = (abs(round(distancia*0.621)))\n",
    "print(disntancia_millas)"
   ]
  }
 ],
 "metadata": {
  "interpreter": {
   "hash": "a431febc073bd7cb3486cf8618f1bd43f7c82f44fec5a91b3f10cf9fd3f6a184"
  },
  "kernelspec": {
   "display_name": "Python 3.9.10 64-bit (windows store)",
   "language": "python",
   "name": "python3"
  },
  "language_info": {
   "codemirror_mode": {
    "name": "ipython",
    "version": 3
   },
   "file_extension": ".py",
   "mimetype": "text/x-python",
   "name": "python",
   "nbconvert_exporter": "python",
   "pygments_lexer": "ipython3",
   "version": "3.9.10"
  },
  "orig_nbformat": 4
 },
 "nbformat": 4,
 "nbformat_minor": 2
}
