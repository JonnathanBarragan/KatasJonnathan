{
 "cells": [
  {
   "cell_type": "markdown",
   "metadata": {},
   "source": [
    "# Usando lógica boleana\n",
    "### Ejercicio - Escribir declaraciones if, else y elif.\n"
   ]
  },
  {
   "cell_type": "code",
   "execution_count": 84,
   "metadata": {},
   "outputs": [
    {
     "name": "stdout",
     "output_type": "stream",
     "text": [
      "Advertencia, se acerca un asteroide a 49km/s.\n"
     ]
    }
   ],
   "source": [
    "# Primer ejercicio\n",
    "velocidad_del_asteroide = 49\n",
    "if velocidad_del_asteroide > 25:\n",
    "    print (\"Advertencia, se acerca un asteroide a \"+ str(velocidad_del_asteroide)+ \"km/s.\")\n",
    "else: \n",
    "    print(\"Hoy es un buen día para vivir.\")\n"
   ]
  },
  {
   "cell_type": "code",
   "execution_count": 85,
   "metadata": {},
   "outputs": [
    {
     "name": "stdout",
     "output_type": "stream",
     "text": [
      "Que tenga un buen día.\n"
     ]
    }
   ],
   "source": [
    "# Segundo ejercicio \n",
    "velocidad_del_asteroide = 19\n",
    "if velocidad_del_asteroide >= 20:\n",
    "    if velocidad_del_asteroide <= 25: \n",
    "        print(\"Mira al cielo, hay un rayo de luz de un asteroide\")\n",
    "    else:\n",
    "        print(\"Advertencia, se acerca un asteroide a velocidad importante\") \n",
    "elif velocidad_del_asteroide < 20:\n",
    "    print(\"Que tenga un buen día.\")\n"
   ]
  },
  {
   "cell_type": "code",
   "execution_count": 129,
   "metadata": {},
   "outputs": [
    {
     "name": "stdout",
     "output_type": "stream",
     "text": [
      "Se acerca un asteroide a alta velocidad que causará un daño a la tierra\n"
     ]
    }
   ],
   "source": [
    "# Tercer Ejercicio.\n",
    "\n",
    "v_asteroide = 26\n",
    "d_asteroide = 200\n",
    "\n",
    "if d_asteroide < 25 or v_asteroide < 20:\n",
    "    print(\"Continúe con su día.\")\n",
    "if d_asteroide > 25 and v_asteroide > 25:\n",
    "    print(\"Se acerca un asteroide a alta velocidad que causará un daño a la tierra\")\n",
    "elif v_asteroide >= 20 and d_asteroide > 25: \n",
    "    print(\"Mire al cielo, se aprecia una luz hermosa.\")\n"
   ]
  },
  {
   "cell_type": "code",
   "execution_count": 88,
   "metadata": {},
   "outputs": [
    {
     "name": "stdout",
     "output_type": "stream",
     "text": [
      "Se acerca un asteroide a alta velocidad\n",
      "Daño al planeta Tierra\n"
     ]
    }
   ],
   "source": [
    "\n",
    "# Parte de prueba del ejercicio de or y and\n",
    "\n",
    "v_asteroide = 32\n",
    "d_asteroide = 26\n",
    "\n",
    "if d_asteroide < 25:\n",
    "    print(\"No hay riesgo de asteroide\") \n",
    "if v_asteroide < 20:\n",
    "    print(\"No se puede ver un asteroide\")\n",
    "if v_asteroide >= 20:\n",
    "    if v_asteroide < 25:\n",
    "        print(\"Observa el cielo, se aprecia una luz de un asteroide\")\n",
    "if v_asteroide > 25:\n",
    "    print (\"Se acerca un asteroide a alta velocidad\")\n",
    "if d_asteroide >=25:\n",
    "    if d_asteroide <1000:\n",
    "        print(\"Daño al planeta Tierra\")\n",
    "if d_asteroide >1000:\n",
    "    print(\"Despidase, la Tierra se acaba en breve.\")\n",
    "\n",
    "\n",
    "\n",
    "elif d_asteroide >25:\n",
    "    if d_asteroide <1000 and v_asteroide <20:\n",
    "        print(\"Un asteroide causara un daño en la tierra, pero no se apreciara en el cielo\")\n",
    "elif d_asteroide >25:\n",
    "    if d_asteroide <1000 and v_asteroide >= 20:\n",
    "        print(\"Un asteroide causara un daño en la tierra, pero se aprecia una luz en el cielo\")\n"
   ]
  }
 ],
 "metadata": {
  "interpreter": {
   "hash": "a431febc073bd7cb3486cf8618f1bd43f7c82f44fec5a91b3f10cf9fd3f6a184"
  },
  "kernelspec": {
   "display_name": "Python 3.9.10 64-bit (windows store)",
   "language": "python",
   "name": "python3"
  },
  "language_info": {
   "codemirror_mode": {
    "name": "ipython",
    "version": 3
   },
   "file_extension": ".py",
   "mimetype": "text/x-python",
   "name": "python",
   "nbconvert_exporter": "python",
   "pygments_lexer": "ipython3",
   "version": "3.9.10"
  },
  "orig_nbformat": 4
 },
 "nbformat": 4,
 "nbformat_minor": 2
}
