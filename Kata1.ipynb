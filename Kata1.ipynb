{
 "cells": [
  {
   "cell_type": "markdown",
   "metadata": {},
   "source": [
    "## Mi primer programa\n",
    "#### La fecha del día de hoy"
   ]
  },
  {
   "cell_type": "code",
   "execution_count": 3,
   "metadata": {},
   "outputs": [
    {
     "name": "stdout",
     "output_type": "stream",
     "text": [
      "Today's date is: 2022-02-10\n"
     ]
    }
   ],
   "source": [
    "from datetime import date\n",
    "date.today()\n",
    "print(\"Today's date is: \"+str(date.today()))"
   ]
  },
  {
   "cell_type": "markdown",
   "metadata": {},
   "source": [
    "### Convertidor de unidades"
   ]
  },
  {
   "cell_type": "code",
   "execution_count": 17,
   "metadata": {},
   "outputs": [
    {
     "name": "stdout",
     "output_type": "stream",
     "text": [
      "11parsec,is 35.877159999999996lightyears\n"
     ]
    }
   ],
   "source": [
    "parsec = 11\n",
    "lightyears = 3.26156 * parsec\n",
    "\n",
    "print(str(parsec)+ \"parsec,is \"+str(lightyears)+ \"lightyears\")\n"
   ]
  }
 ],
 "metadata": {
  "interpreter": {
   "hash": "a431febc073bd7cb3486cf8618f1bd43f7c82f44fec5a91b3f10cf9fd3f6a184"
  },
  "kernelspec": {
   "display_name": "Python 3.9.10 64-bit (windows store)",
   "language": "python",
   "name": "python3"
  },
  "language_info": {
   "codemirror_mode": {
    "name": "ipython",
    "version": 3
   },
   "file_extension": ".py",
   "mimetype": "text/x-python",
   "name": "python",
   "nbconvert_exporter": "python",
   "pygments_lexer": "ipython3",
   "version": "3.9.7"
  },
  "orig_nbformat": 4
 },
 "nbformat": 4,
 "nbformat_minor": 2
}
